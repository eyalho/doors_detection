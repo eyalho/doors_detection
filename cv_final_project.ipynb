{
  "nbformat": 4,
  "nbformat_minor": 0,
  "metadata": {
    "colab": {
      "name": "cv_final_project",
      "provenance": [],
      "collapsed_sections": [],
      "include_colab_link": true
    },
    "kernelspec": {
      "name": "python3",
      "display_name": "Python 3"
    },
    "accelerator": "GPU"
  },
  "cells": [
    {
      "cell_type": "markdown",
      "metadata": {
        "id": "view-in-github",
        "colab_type": "text"
      },
      "source": [
        "<a href=\"https://colab.research.google.com/github/eyalho/TAU_CV/blob/master/final_project/cv_final_project.ipynb\" target=\"_parent\"><img src=\"https://colab.research.google.com/assets/colab-badge.svg\" alt=\"Open In Colab\"/></a>"
      ]
    },
    {
      "cell_type": "code",
      "metadata": {
        "id": "sI6RtJ8963up",
        "colab_type": "code",
        "outputId": "db29b837-377a-49bc-94c7-6ebe367a394d",
        "colab": {
          "base_uri": "https://localhost:8080/",
          "height": 35
        }
      },
      "source": [
        "from google.colab import drive\n",
        "drive.mount('/content/drive')"
      ],
      "execution_count": 4,
      "outputs": [
        {
          "output_type": "stream",
          "text": [
            "Mounted at /content/drive\n"
          ],
          "name": "stdout"
        }
      ]
    },
    {
      "cell_type": "code",
      "metadata": {
        "id": "eP5DRhDuNlfz",
        "colab_type": "code",
        "outputId": "23fe7f21-edd0-450f-8738-01c644a922a0",
        "colab": {
          "base_uri": "https://localhost:8080/",
          "height": 17
        }
      },
      "source": [
        "%%shell\n",
        "\n",
        "###### create aug ######\n",
        "cd \"/content/drive/My Drive/CV\"\n",
        "git clone \"https://github.com/eyalho/DataAugmentationForObjectDetection.git\" \"/content/drive/My Drive/CV/DataAugmentation\"\n",
        "cd \"DataAugmentation\"\n",
        "git status\n",
        "git pull origin master\n",
        "python create_aug.py\n",
        "\n",
        "\n",
        "###### copy aug to project directory######\n",
        "aug_test=\"/content/drive/My Drive/CV/DataAugmentation/test\"\n",
        "aug_train=\"/content/drive/My Drive/CV/DataAugmentation/train\"\n",
        "net_test=\"/content/drive/My Drive/CV/TAU_CV/final_project/test\"\n",
        "net_train=\"/content/drive/My Drive/CV/TAU_CV/final_project/train\"\n",
        "\n",
        "ls \"$aug_test\" | wc -l\n",
        "ls \"$aug_train\" | wc -l\n",
        "ls \"$net_test\" | wc -l\n",
        "ls \"$net_train\" | wc -l\n",
        "\n",
        "echo \"rm -rf old\"\n",
        "rm -rf \"$net_test\"\n",
        "rm -rf \"$net_train\"\n",
        "\n",
        "echo \"mv new aug\"\n",
        "mv \"$aug_test\" \"$net_test\"\n",
        "mv \"$aug_train\" \"$net_train\"\n",
        "\n",
        "ls \"$aug_test\" | wc -l\n",
        "ls \"$aug_train\" | wc -l\n",
        "ls \"$net_test\" | wc -l\n",
        "ls \"$net_train\" | wc -l\n",
        "\n",
        "\n",
        "###### train network and save results ######\n",
        "cd \"/content/drive/My Drive/CV/TAU_CV/final_project/\" \n",
        "git pull origin master\n",
        "\n",
        "len_train=$(ls train/buses | wc -l)\n",
        "len_test=$(ls test/buses | wc -l)\n",
        "echo  ___train\"$len_train\"_test\"$len_test\"\n",
        "echo `cat train/annotations.txt | wc -l`\n",
        "echo `cat test/annotations.txt | wc -l`\n",
        "\n",
        "python trainer.py --num_epochs 10 --batch_size 2 --add_text ___train\"$len_train\"_test\"$len_test\"\n",
        "\n",
        "#### run trained model with last version of network -> create ann file ####\n",
        "my_ann_filename=\"annotations_with_loaded_model.txt\"\n",
        "rm \"$my_ann_filename\"\n",
        "python runMe.py\n",
        "ls \"$my_ann_filename\"\n",
        "len_my_ann_filename=$(cat annotations_with_loaded_model.txt | wc -l)\n",
        "echo len $my_ann_filename is \"$len_my_ann_filename\"\n",
        "\n",
        "#### use ann file to create run busesTest####\n",
        "echo \"run busProjectTest.py\"\n",
        "python busProjectTest.py\n",
        "\n"
      ],
      "execution_count": 43,
      "outputs": [
        {
          "output_type": "execute_result",
          "data": {
            "text/plain": [
              ""
            ]
          },
          "metadata": {
            "tags": []
          },
          "execution_count": 43
        }
      ]
    }
  ]
}